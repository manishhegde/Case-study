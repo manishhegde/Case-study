{
 "cells": [
  {
   "cell_type": "code",
   "execution_count": 82,
   "id": "61ccfedb",
   "metadata": {},
   "outputs": [
    {
     "name": "stderr",
     "output_type": "stream",
     "text": [
      "C:\\Users\\Manish.Hegde.INSPOLT017.000\\anaconda3\\lib\\site-packages\\IPython\\core\\interactiveshell.py:3444: DtypeWarning: Columns (47) have mixed types.Specify dtype option on import or set low_memory=False.\n",
      "  exec(code_obj, self.user_global_ns, self.user_ns)\n"
     ]
    },
    {
     "data": {
      "text/html": [
       "<div>\n",
       "<style scoped>\n",
       "    .dataframe tbody tr th:only-of-type {\n",
       "        vertical-align: middle;\n",
       "    }\n",
       "\n",
       "    .dataframe tbody tr th {\n",
       "        vertical-align: top;\n",
       "    }\n",
       "\n",
       "    .dataframe thead th {\n",
       "        text-align: right;\n",
       "    }\n",
       "</style>\n",
       "<table border=\"1\" class=\"dataframe\">\n",
       "  <thead>\n",
       "    <tr style=\"text-align: right;\">\n",
       "      <th></th>\n",
       "      <th>id</th>\n",
       "      <th>member_id</th>\n",
       "      <th>loan_amnt</th>\n",
       "      <th>funded_amnt</th>\n",
       "      <th>funded_amnt_inv</th>\n",
       "      <th>term</th>\n",
       "      <th>int_rate</th>\n",
       "      <th>installment</th>\n",
       "      <th>grade</th>\n",
       "      <th>sub_grade</th>\n",
       "      <th>...</th>\n",
       "      <th>num_tl_90g_dpd_24m</th>\n",
       "      <th>num_tl_op_past_12m</th>\n",
       "      <th>pct_tl_nvr_dlq</th>\n",
       "      <th>percent_bc_gt_75</th>\n",
       "      <th>pub_rec_bankruptcies</th>\n",
       "      <th>tax_liens</th>\n",
       "      <th>tot_hi_cred_lim</th>\n",
       "      <th>total_bal_ex_mort</th>\n",
       "      <th>total_bc_limit</th>\n",
       "      <th>total_il_high_credit_limit</th>\n",
       "    </tr>\n",
       "  </thead>\n",
       "  <tbody>\n",
       "    <tr>\n",
       "      <th>0</th>\n",
       "      <td>1077501</td>\n",
       "      <td>1296599</td>\n",
       "      <td>5000</td>\n",
       "      <td>5000</td>\n",
       "      <td>4975.0</td>\n",
       "      <td>36 months</td>\n",
       "      <td>10.65%</td>\n",
       "      <td>162.87</td>\n",
       "      <td>B</td>\n",
       "      <td>B2</td>\n",
       "      <td>...</td>\n",
       "      <td>NaN</td>\n",
       "      <td>NaN</td>\n",
       "      <td>NaN</td>\n",
       "      <td>NaN</td>\n",
       "      <td>0.0</td>\n",
       "      <td>0.0</td>\n",
       "      <td>NaN</td>\n",
       "      <td>NaN</td>\n",
       "      <td>NaN</td>\n",
       "      <td>NaN</td>\n",
       "    </tr>\n",
       "    <tr>\n",
       "      <th>1</th>\n",
       "      <td>1077430</td>\n",
       "      <td>1314167</td>\n",
       "      <td>2500</td>\n",
       "      <td>2500</td>\n",
       "      <td>2500.0</td>\n",
       "      <td>60 months</td>\n",
       "      <td>15.27%</td>\n",
       "      <td>59.83</td>\n",
       "      <td>C</td>\n",
       "      <td>C4</td>\n",
       "      <td>...</td>\n",
       "      <td>NaN</td>\n",
       "      <td>NaN</td>\n",
       "      <td>NaN</td>\n",
       "      <td>NaN</td>\n",
       "      <td>0.0</td>\n",
       "      <td>0.0</td>\n",
       "      <td>NaN</td>\n",
       "      <td>NaN</td>\n",
       "      <td>NaN</td>\n",
       "      <td>NaN</td>\n",
       "    </tr>\n",
       "    <tr>\n",
       "      <th>2</th>\n",
       "      <td>1077175</td>\n",
       "      <td>1313524</td>\n",
       "      <td>2400</td>\n",
       "      <td>2400</td>\n",
       "      <td>2400.0</td>\n",
       "      <td>36 months</td>\n",
       "      <td>15.96%</td>\n",
       "      <td>84.33</td>\n",
       "      <td>C</td>\n",
       "      <td>C5</td>\n",
       "      <td>...</td>\n",
       "      <td>NaN</td>\n",
       "      <td>NaN</td>\n",
       "      <td>NaN</td>\n",
       "      <td>NaN</td>\n",
       "      <td>0.0</td>\n",
       "      <td>0.0</td>\n",
       "      <td>NaN</td>\n",
       "      <td>NaN</td>\n",
       "      <td>NaN</td>\n",
       "      <td>NaN</td>\n",
       "    </tr>\n",
       "    <tr>\n",
       "      <th>3</th>\n",
       "      <td>1076863</td>\n",
       "      <td>1277178</td>\n",
       "      <td>10000</td>\n",
       "      <td>10000</td>\n",
       "      <td>10000.0</td>\n",
       "      <td>36 months</td>\n",
       "      <td>13.49%</td>\n",
       "      <td>339.31</td>\n",
       "      <td>C</td>\n",
       "      <td>C1</td>\n",
       "      <td>...</td>\n",
       "      <td>NaN</td>\n",
       "      <td>NaN</td>\n",
       "      <td>NaN</td>\n",
       "      <td>NaN</td>\n",
       "      <td>0.0</td>\n",
       "      <td>0.0</td>\n",
       "      <td>NaN</td>\n",
       "      <td>NaN</td>\n",
       "      <td>NaN</td>\n",
       "      <td>NaN</td>\n",
       "    </tr>\n",
       "    <tr>\n",
       "      <th>4</th>\n",
       "      <td>1075358</td>\n",
       "      <td>1311748</td>\n",
       "      <td>3000</td>\n",
       "      <td>3000</td>\n",
       "      <td>3000.0</td>\n",
       "      <td>60 months</td>\n",
       "      <td>12.69%</td>\n",
       "      <td>67.79</td>\n",
       "      <td>B</td>\n",
       "      <td>B5</td>\n",
       "      <td>...</td>\n",
       "      <td>NaN</td>\n",
       "      <td>NaN</td>\n",
       "      <td>NaN</td>\n",
       "      <td>NaN</td>\n",
       "      <td>0.0</td>\n",
       "      <td>0.0</td>\n",
       "      <td>NaN</td>\n",
       "      <td>NaN</td>\n",
       "      <td>NaN</td>\n",
       "      <td>NaN</td>\n",
       "    </tr>\n",
       "  </tbody>\n",
       "</table>\n",
       "<p>5 rows × 111 columns</p>\n",
       "</div>"
      ],
      "text/plain": [
       "        id  member_id  loan_amnt  funded_amnt  funded_amnt_inv        term  \\\n",
       "0  1077501    1296599       5000         5000           4975.0   36 months   \n",
       "1  1077430    1314167       2500         2500           2500.0   60 months   \n",
       "2  1077175    1313524       2400         2400           2400.0   36 months   \n",
       "3  1076863    1277178      10000        10000          10000.0   36 months   \n",
       "4  1075358    1311748       3000         3000           3000.0   60 months   \n",
       "\n",
       "  int_rate  installment grade sub_grade  ... num_tl_90g_dpd_24m  \\\n",
       "0   10.65%       162.87     B        B2  ...                NaN   \n",
       "1   15.27%        59.83     C        C4  ...                NaN   \n",
       "2   15.96%        84.33     C        C5  ...                NaN   \n",
       "3   13.49%       339.31     C        C1  ...                NaN   \n",
       "4   12.69%        67.79     B        B5  ...                NaN   \n",
       "\n",
       "  num_tl_op_past_12m pct_tl_nvr_dlq  percent_bc_gt_75 pub_rec_bankruptcies  \\\n",
       "0                NaN            NaN               NaN                  0.0   \n",
       "1                NaN            NaN               NaN                  0.0   \n",
       "2                NaN            NaN               NaN                  0.0   \n",
       "3                NaN            NaN               NaN                  0.0   \n",
       "4                NaN            NaN               NaN                  0.0   \n",
       "\n",
       "  tax_liens tot_hi_cred_lim total_bal_ex_mort total_bc_limit  \\\n",
       "0       0.0             NaN               NaN            NaN   \n",
       "1       0.0             NaN               NaN            NaN   \n",
       "2       0.0             NaN               NaN            NaN   \n",
       "3       0.0             NaN               NaN            NaN   \n",
       "4       0.0             NaN               NaN            NaN   \n",
       "\n",
       "  total_il_high_credit_limit  \n",
       "0                        NaN  \n",
       "1                        NaN  \n",
       "2                        NaN  \n",
       "3                        NaN  \n",
       "4                        NaN  \n",
       "\n",
       "[5 rows x 111 columns]"
      ]
     },
     "execution_count": 82,
     "metadata": {},
     "output_type": "execute_result"
    }
   ],
   "source": [
    "#import the neccesary libraries \n",
    "\n",
    "import pandas as pd\n",
    "import numpy as np\n",
    "import matplotlib.pyplot as plt \n",
    "\n",
    "#load the given Case study CSV file\n",
    "\n",
    "loan = pd.read_csv('D:\\MLAI\\Case Study\\\\loan.csv')\n",
    "data = pd.read_excel('D:\\MLAI\\Case Study\\\\Data_Dictionary.xlsx')                         \n",
    "\n",
    "#to verify the content of the data \n",
    "loan.head()\n"
   ]
  },
  {
   "cell_type": "code",
   "execution_count": 83,
   "id": "435d9a41",
   "metadata": {},
   "outputs": [
    {
     "data": {
      "text/plain": [
       "Index(['id', 'member_id', 'loan_amnt', 'funded_amnt', 'funded_amnt_inv',\n",
       "       'term', 'int_rate', 'installment', 'grade', 'sub_grade',\n",
       "       ...\n",
       "       'num_tl_90g_dpd_24m', 'num_tl_op_past_12m', 'pct_tl_nvr_dlq',\n",
       "       'percent_bc_gt_75', 'pub_rec_bankruptcies', 'tax_liens',\n",
       "       'tot_hi_cred_lim', 'total_bal_ex_mort', 'total_bc_limit',\n",
       "       'total_il_high_credit_limit'],\n",
       "      dtype='object', length=111)"
      ]
     },
     "execution_count": 83,
     "metadata": {},
     "output_type": "execute_result"
    }
   ],
   "source": [
    "#to check and verify the data of columns\n",
    "loan.columns"
   ]
  },
  {
   "cell_type": "code",
   "execution_count": 84,
   "id": "15ffd39d",
   "metadata": {},
   "outputs": [
    {
     "data": {
      "text/plain": [
       "(39717, 111)"
      ]
     },
     "execution_count": 84,
     "metadata": {},
     "output_type": "execute_result"
    }
   ],
   "source": [
    "#To check the shape of the data\n",
    "loan.shape"
   ]
  },
  {
   "cell_type": "code",
   "execution_count": 85,
   "id": "11232da1",
   "metadata": {},
   "outputs": [
    {
     "name": "stdout",
     "output_type": "stream",
     "text": [
      "11.86\n",
      "9.99\n",
      "10.00\n"
     ]
    }
   ],
   "source": [
    "#First checked the whether any data is missing in 'int_rate' column\n",
    "loan['int_rate'].isnull().sum()\n",
    "#Since in that column % was there written the code for remove the %\n",
    "loan['int_rate'] =loan['int_rate'].str.replace('%','')\n",
    "#printed the valued to check wthether % is removed or not and also to know the Median ,max and min\n",
    "print(loan['int_rate'].median())\n",
    "print(loan['int_rate'].max())\n",
    "print(loan['int_rate'].min())"
   ]
  },
  {
   "cell_type": "code",
   "execution_count": 86,
   "id": "6a612b57",
   "metadata": {},
   "outputs": [
    {
     "data": {
      "image/png": "[encoded data removed]",
      "text/plain": [
       "<Figure size 432x288 with 1 Axes>"
      ]
     },
     "metadata": {
      "needs_background": "light"
     },
     "output_type": "display_data"
    }
   ],
   "source": [
    "#made the groupby to check the pattern of intersert rates\n",
    "loan_rate=loan.groupby('int_rate').count()\n",
    "plt.plot(loan_rate.index,loan_rate,color='green')\n",
    "plt.show()"
   ]
  },
  {
   "cell_type": "code",
   "execution_count": 87,
   "id": "e8d54300",
   "metadata": {},
   "outputs": [
    {
     "data": {
      "text/plain": [
       "0"
      ]
     },
     "execution_count": 87,
     "metadata": {},
     "output_type": "execute_result"
    }
   ],
   "source": [
    "#to check the sanity of \"annual_inc\"\n",
    "loan['annual_inc'].isnull().sum()"
   ]
  },
  {
   "cell_type": "code",
   "execution_count": 88,
   "id": "e7109a0c",
   "metadata": {},
   "outputs": [
    {
     "name": "stdout",
     "output_type": "stream",
     "text": [
      "59000.0\n",
      "6000000.0\n",
      "4000.0\n"
     ]
    }
   ],
   "source": [
    "#to check the max, median and minimum value\n",
    "print(loan['annual_inc'].median())\n",
    "print(loan['annual_inc'].max())\n",
    "print(loan['annual_inc'].min())"
   ]
  },
  {
   "cell_type": "code",
   "execution_count": 89,
   "id": "129845d6",
   "metadata": {},
   "outputs": [
    {
     "name": "stdout",
     "output_type": "stream",
     "text": [
      "9899.640319\n",
      "58563.67993\n",
      "0.0\n"
     ]
    }
   ],
   "source": [
    "\n",
    "print(loan['total_pymnt'].median())\n",
    "print(loan['total_pymnt'].max())\n",
    "print(loan['total_pymnt'].min())"
   ]
  },
  {
   "cell_type": "code",
   "execution_count": 90,
   "id": "79b62c03",
   "metadata": {},
   "outputs": [
    {
     "data": {
      "image/png": "[encoded data removed]",
      "text/plain": [
       "<Figure size 432x288 with 1 Axes>"
      ]
     },
     "metadata": {
      "needs_background": "light"
     },
     "output_type": "display_data"
    }
   ],
   "source": [
    "#ploted the histgram to see the spraed of 'annual income of 'loan borrower\n",
    "Annual_inc=plt.hist(loan['annual_inc'],bins=100,range =[4000, 6000000],color='green')\n",
    "\n",
    "plt.show()"
   ]
  },
  {
   "cell_type": "code",
   "execution_count": 91,
   "id": "0f14de4d",
   "metadata": {},
   "outputs": [],
   "source": [
    "#Since there is max value is 6000000, removed the outliners 5% from bottom and top\n",
    "Q1 = loan['annual_inc'].quantile(0.05)\n",
    "Q3 = loan['annual_inc'].quantile(0.95)\n",
    "IQR = Q3 - Q1\n",
    "\n",
    "loan['annual_inc']= loan['annual_inc'][~((loan['annual_inc'] < (Q1 - 1.5 * IQR)) | (loan['annual_inc'] > (Q3 + 1.5 * IQR)))]\n"
   ]
  },
  {
   "cell_type": "code",
   "execution_count": 92,
   "id": "d8b288aa",
   "metadata": {},
   "outputs": [
    {
     "name": "stdout",
     "output_type": "stream",
     "text": [
      "58978.14\n",
      "316800.0\n",
      "4000.0\n"
     ]
    }
   ],
   "source": [
    "#Check the new values after removing the outliners \n",
    "print(loan['annual_inc'].median())\n",
    "print(loan['annual_inc'].max())\n",
    "print(loan['annual_inc'].min())"
   ]
  },
  {
   "cell_type": "code",
   "execution_count": 93,
   "id": "8847f2c3",
   "metadata": {},
   "outputs": [
    {
     "data": {
      "image/png": "[encoded data removed]",
      "text/plain": [
       "<Figure size 432x288 with 1 Axes>"
      ]
     },
     "metadata": {
      "needs_background": "light"
     },
     "output_type": "display_data"
    }
   ],
   "source": [
    "#after removing the outliner \n",
    "Annual_inc=plt.hist(loan['annual_inc'],bins=100,range =[4000, 200000],color='green')\n",
    "\n",
    "plt.show()"
   ]
  },
  {
   "cell_type": "code",
   "execution_count": 94,
   "id": "779e6eab",
   "metadata": {},
   "outputs": [
    {
     "data": {
      "image/png": "[encoded data removed]",
      "text/plain": [
       "<Figure size 432x288 with 1 Axes>"
      ]
     },
     "metadata": {
      "needs_background": "light"
     },
     "output_type": "display_data"
    }
   ],
   "source": [
    "#Checking the histo for \"Loan_amnt\" to see the pattern \"annual_inc\"v/s 'loan amount'\n",
    "Annual_inc=plt.hist(loan['loan_amnt'],bins=100,range =[500, 35000],color='green')\n",
    "\n",
    "plt.show()"
   ]
  },
  {
   "cell_type": "code",
   "execution_count": 95,
   "id": "92f38774",
   "metadata": {},
   "outputs": [
    {
     "data": {
      "image/png": "[encoded data removed]",
      "text/plain": [
       "<Figure size 432x288 with 1 Axes>"
      ]
     },
     "metadata": {
      "needs_background": "light"
     },
     "output_type": "display_data"
    },
    {
     "data": {
      "text/plain": [
       "35000"
      ]
     },
     "execution_count": 95,
     "metadata": {},
     "output_type": "execute_result"
    }
   ],
   "source": [
    "#pattern for \"loan amount\"by keepung the range 4000 to 200000 \n",
    "Annual_inc=plt.hist(loan['loan_amnt'],bins=100,range =[4000, 200000],color='green')\n",
    "\n",
    "plt.show()\n",
    "loan['loan_amnt'].max()"
   ]
  },
  {
   "cell_type": "code",
   "execution_count": 96,
   "id": "e7982771",
   "metadata": {},
   "outputs": [
    {
     "data": {
      "text/plain": [
       "0"
      ]
     },
     "execution_count": 96,
     "metadata": {},
     "output_type": "execute_result"
    }
   ],
   "source": [
    "#Sanity check of the values\n",
    "loan['chargeoff_within_12_mths'].isnull().sum()\n",
    "loan['avg_cur_bal'].isnull().sum()\n",
    "loan['avg_cur_bal'].isnull().sum()\n",
    "#checked the data type \n",
    "loan['annual_inc'].dtype\n",
    "#check for the any empty entries \n",
    "loan['loan_status'].isnull().sum()"
   ]
  },
  {
   "cell_type": "code",
   "execution_count": 97,
   "id": "a49c1086",
   "metadata": {},
   "outputs": [
    {
     "data": {
      "image/png": "[encoded data removed]",
      "text/plain": [
       "<Figure size 432x288 with 1 Axes>"
      ]
     },
     "metadata": {
      "needs_background": "light"
     },
     "output_type": "display_data"
    }
   ],
   "source": [
    "#Ploted the bar\n",
    "plt.bar(loan['loan_status'],loan['annual_inc'])\n",
    "\n",
    "plt.title(\"Loan Status v/s Annual Income\\n\",fontdict={\"fontsize\":20,\"fontweight\":10,\"color\":\"black\"})\n",
    "plt.ylabel(\"Total Income\",fontdict={'fontsize':15,'fontweight':5,'color':'black'})\n",
    "plt.xlabel(\"Status of Loan\",fontdict={'fontsize':15,'fontweight':5,'color':'black'})\n",
    "plt.show()"
   ]
  },
  {
   "cell_type": "code",
   "execution_count": 98,
   "id": "d8f1f3fa",
   "metadata": {},
   "outputs": [
    {
     "data": {
      "text/html": [
       "<div>\n",
       "<style scoped>\n",
       "    .dataframe tbody tr th:only-of-type {\n",
       "        vertical-align: middle;\n",
       "    }\n",
       "\n",
       "    .dataframe tbody tr th {\n",
       "        vertical-align: top;\n",
       "    }\n",
       "\n",
       "    .dataframe thead th {\n",
       "        text-align: right;\n",
       "    }\n",
       "</style>\n",
       "<table border=\"1\" class=\"dataframe\">\n",
       "  <thead>\n",
       "    <tr style=\"text-align: right;\">\n",
       "      <th></th>\n",
       "      <th>id</th>\n",
       "      <th>member_id</th>\n",
       "      <th>loan_amnt</th>\n",
       "      <th>funded_amnt</th>\n",
       "      <th>funded_amnt_inv</th>\n",
       "      <th>term</th>\n",
       "      <th>int_rate</th>\n",
       "      <th>installment</th>\n",
       "      <th>grade</th>\n",
       "      <th>sub_grade</th>\n",
       "      <th>...</th>\n",
       "      <th>num_tl_90g_dpd_24m</th>\n",
       "      <th>num_tl_op_past_12m</th>\n",
       "      <th>pct_tl_nvr_dlq</th>\n",
       "      <th>percent_bc_gt_75</th>\n",
       "      <th>pub_rec_bankruptcies</th>\n",
       "      <th>tax_liens</th>\n",
       "      <th>tot_hi_cred_lim</th>\n",
       "      <th>total_bal_ex_mort</th>\n",
       "      <th>total_bc_limit</th>\n",
       "      <th>total_il_high_credit_limit</th>\n",
       "    </tr>\n",
       "    <tr>\n",
       "      <th>loan_status</th>\n",
       "      <th></th>\n",
       "      <th></th>\n",
       "      <th></th>\n",
       "      <th></th>\n",
       "      <th></th>\n",
       "      <th></th>\n",
       "      <th></th>\n",
       "      <th></th>\n",
       "      <th></th>\n",
       "      <th></th>\n",
       "      <th></th>\n",
       "      <th></th>\n",
       "      <th></th>\n",
       "      <th></th>\n",
       "      <th></th>\n",
       "      <th></th>\n",
       "      <th></th>\n",
       "      <th></th>\n",
       "      <th></th>\n",
       "      <th></th>\n",
       "      <th></th>\n",
       "    </tr>\n",
       "  </thead>\n",
       "  <tbody>\n",
       "    <tr>\n",
       "      <th>Charged Off</th>\n",
       "      <td>5627</td>\n",
       "      <td>5627</td>\n",
       "      <td>5627</td>\n",
       "      <td>5627</td>\n",
       "      <td>5627</td>\n",
       "      <td>5627</td>\n",
       "      <td>5627</td>\n",
       "      <td>5627</td>\n",
       "      <td>5627</td>\n",
       "      <td>5627</td>\n",
       "      <td>...</td>\n",
       "      <td>0</td>\n",
       "      <td>0</td>\n",
       "      <td>0</td>\n",
       "      <td>0</td>\n",
       "      <td>5509</td>\n",
       "      <td>5626</td>\n",
       "      <td>0</td>\n",
       "      <td>0</td>\n",
       "      <td>0</td>\n",
       "      <td>0</td>\n",
       "    </tr>\n",
       "    <tr>\n",
       "      <th>Current</th>\n",
       "      <td>1140</td>\n",
       "      <td>1140</td>\n",
       "      <td>1140</td>\n",
       "      <td>1140</td>\n",
       "      <td>1140</td>\n",
       "      <td>1140</td>\n",
       "      <td>1140</td>\n",
       "      <td>1140</td>\n",
       "      <td>1140</td>\n",
       "      <td>1140</td>\n",
       "      <td>...</td>\n",
       "      <td>0</td>\n",
       "      <td>0</td>\n",
       "      <td>0</td>\n",
       "      <td>0</td>\n",
       "      <td>1140</td>\n",
       "      <td>1140</td>\n",
       "      <td>0</td>\n",
       "      <td>0</td>\n",
       "      <td>0</td>\n",
       "      <td>0</td>\n",
       "    </tr>\n",
       "    <tr>\n",
       "      <th>Fully Paid</th>\n",
       "      <td>32950</td>\n",
       "      <td>32950</td>\n",
       "      <td>32950</td>\n",
       "      <td>32950</td>\n",
       "      <td>32950</td>\n",
       "      <td>32950</td>\n",
       "      <td>32950</td>\n",
       "      <td>32950</td>\n",
       "      <td>32950</td>\n",
       "      <td>32950</td>\n",
       "      <td>...</td>\n",
       "      <td>0</td>\n",
       "      <td>0</td>\n",
       "      <td>0</td>\n",
       "      <td>0</td>\n",
       "      <td>32371</td>\n",
       "      <td>32912</td>\n",
       "      <td>0</td>\n",
       "      <td>0</td>\n",
       "      <td>0</td>\n",
       "      <td>0</td>\n",
       "    </tr>\n",
       "  </tbody>\n",
       "</table>\n",
       "<p>3 rows × 110 columns</p>\n",
       "</div>"
      ],
      "text/plain": [
       "                id  member_id  loan_amnt  funded_amnt  funded_amnt_inv   term  \\\n",
       "loan_status                                                                     \n",
       "Charged Off   5627       5627       5627         5627             5627   5627   \n",
       "Current       1140       1140       1140         1140             1140   1140   \n",
       "Fully Paid   32950      32950      32950        32950            32950  32950   \n",
       "\n",
       "             int_rate  installment  grade  sub_grade  ...  num_tl_90g_dpd_24m  \\\n",
       "loan_status                                           ...                       \n",
       "Charged Off      5627         5627   5627       5627  ...                   0   \n",
       "Current          1140         1140   1140       1140  ...                   0   \n",
       "Fully Paid      32950        32950  32950      32950  ...                   0   \n",
       "\n",
       "             num_tl_op_past_12m  pct_tl_nvr_dlq  percent_bc_gt_75  \\\n",
       "loan_status                                                         \n",
       "Charged Off                   0               0                 0   \n",
       "Current                       0               0                 0   \n",
       "Fully Paid                    0               0                 0   \n",
       "\n",
       "             pub_rec_bankruptcies  tax_liens  tot_hi_cred_lim  \\\n",
       "loan_status                                                     \n",
       "Charged Off                  5509       5626                0   \n",
       "Current                      1140       1140                0   \n",
       "Fully Paid                  32371      32912                0   \n",
       "\n",
       "             total_bal_ex_mort  total_bc_limit  total_il_high_credit_limit  \n",
       "loan_status                                                                 \n",
       "Charged Off                  0               0                           0  \n",
       "Current                      0               0                           0  \n",
       "Fully Paid                   0               0                           0  \n",
       "\n",
       "[3 rows x 110 columns]"
      ]
     },
     "execution_count": 98,
     "metadata": {},
     "output_type": "execute_result"
    }
   ],
   "source": [
    "\n",
    "#checking the loan status \n",
    "loan_Status=loan.groupby('loan_status').count()\n",
    "loan_Status"
   ]
  },
  {
   "cell_type": "code",
   "execution_count": 99,
   "id": "6449e0b2",
   "metadata": {},
   "outputs": [
    {
     "data": {
      "image/png": "[encoded data removed]",
      "text/plain": [
       "<Figure size 576x720 with 1 Axes>"
      ]
     },
     "metadata": {},
     "output_type": "display_data"
    }
   ],
   "source": [
    "#ploting the pichart to know the % of loan status \n",
    "x_vals = []\n",
    "y_vals = []\n",
    "for i in [0, 1, 2]: \n",
    "    x_vals.append(loan_Status.index[i])\n",
    "    y_vals.append(loan_Status.iloc[i,0])\n",
    "plt.figure(figsize = [8,10])\n",
    "plt.pie(loan_Status[\"id\"],explode=(0.1,0,0),labels=x_vals,autopct='%1.1f%%',textprops={'fontsize': 16, 'fontweight' : 20, 'color' : 'Black'}, startangle=90)\n",
    "plt.show()"
   ]
  },
  {
   "cell_type": "code",
   "execution_count": 100,
   "id": "80f28e20",
   "metadata": {},
   "outputs": [
    {
     "data": {
      "text/html": [
       "<div>\n",
       "<style scoped>\n",
       "    .dataframe tbody tr th:only-of-type {\n",
       "        vertical-align: middle;\n",
       "    }\n",
       "\n",
       "    .dataframe tbody tr th {\n",
       "        vertical-align: top;\n",
       "    }\n",
       "\n",
       "    .dataframe thead th {\n",
       "        text-align: right;\n",
       "    }\n",
       "</style>\n",
       "<table border=\"1\" class=\"dataframe\">\n",
       "  <thead>\n",
       "    <tr style=\"text-align: right;\">\n",
       "      <th></th>\n",
       "      <th>id</th>\n",
       "      <th>member_id</th>\n",
       "      <th>loan_amnt</th>\n",
       "      <th>funded_amnt</th>\n",
       "      <th>funded_amnt_inv</th>\n",
       "      <th>term</th>\n",
       "      <th>int_rate</th>\n",
       "      <th>installment</th>\n",
       "      <th>grade</th>\n",
       "      <th>sub_grade</th>\n",
       "      <th>...</th>\n",
       "      <th>num_tl_90g_dpd_24m</th>\n",
       "      <th>num_tl_op_past_12m</th>\n",
       "      <th>pct_tl_nvr_dlq</th>\n",
       "      <th>percent_bc_gt_75</th>\n",
       "      <th>pub_rec_bankruptcies</th>\n",
       "      <th>tax_liens</th>\n",
       "      <th>tot_hi_cred_lim</th>\n",
       "      <th>total_bal_ex_mort</th>\n",
       "      <th>total_bc_limit</th>\n",
       "      <th>total_il_high_credit_limit</th>\n",
       "    </tr>\n",
       "    <tr>\n",
       "      <th>verification_status</th>\n",
       "      <th></th>\n",
       "      <th></th>\n",
       "      <th></th>\n",
       "      <th></th>\n",
       "      <th></th>\n",
       "      <th></th>\n",
       "      <th></th>\n",
       "      <th></th>\n",
       "      <th></th>\n",
       "      <th></th>\n",
       "      <th></th>\n",
       "      <th></th>\n",
       "      <th></th>\n",
       "      <th></th>\n",
       "      <th></th>\n",
       "      <th></th>\n",
       "      <th></th>\n",
       "      <th></th>\n",
       "      <th></th>\n",
       "      <th></th>\n",
       "      <th></th>\n",
       "    </tr>\n",
       "  </thead>\n",
       "  <tbody>\n",
       "    <tr>\n",
       "      <th>Not Verified</th>\n",
       "      <td>16921</td>\n",
       "      <td>16921</td>\n",
       "      <td>16921</td>\n",
       "      <td>16921</td>\n",
       "      <td>16921</td>\n",
       "      <td>16921</td>\n",
       "      <td>16921</td>\n",
       "      <td>16921</td>\n",
       "      <td>16921</td>\n",
       "      <td>16921</td>\n",
       "      <td>...</td>\n",
       "      <td>0</td>\n",
       "      <td>0</td>\n",
       "      <td>0</td>\n",
       "      <td>0</td>\n",
       "      <td>16225</td>\n",
       "      <td>16882</td>\n",
       "      <td>0</td>\n",
       "      <td>0</td>\n",
       "      <td>0</td>\n",
       "      <td>0</td>\n",
       "    </tr>\n",
       "    <tr>\n",
       "      <th>Source Verified</th>\n",
       "      <td>9987</td>\n",
       "      <td>9987</td>\n",
       "      <td>9987</td>\n",
       "      <td>9987</td>\n",
       "      <td>9987</td>\n",
       "      <td>9987</td>\n",
       "      <td>9987</td>\n",
       "      <td>9987</td>\n",
       "      <td>9987</td>\n",
       "      <td>9987</td>\n",
       "      <td>...</td>\n",
       "      <td>0</td>\n",
       "      <td>0</td>\n",
       "      <td>0</td>\n",
       "      <td>0</td>\n",
       "      <td>9987</td>\n",
       "      <td>9987</td>\n",
       "      <td>0</td>\n",
       "      <td>0</td>\n",
       "      <td>0</td>\n",
       "      <td>0</td>\n",
       "    </tr>\n",
       "    <tr>\n",
       "      <th>Verified</th>\n",
       "      <td>12809</td>\n",
       "      <td>12809</td>\n",
       "      <td>12809</td>\n",
       "      <td>12809</td>\n",
       "      <td>12809</td>\n",
       "      <td>12809</td>\n",
       "      <td>12809</td>\n",
       "      <td>12809</td>\n",
       "      <td>12809</td>\n",
       "      <td>12809</td>\n",
       "      <td>...</td>\n",
       "      <td>0</td>\n",
       "      <td>0</td>\n",
       "      <td>0</td>\n",
       "      <td>0</td>\n",
       "      <td>12808</td>\n",
       "      <td>12809</td>\n",
       "      <td>0</td>\n",
       "      <td>0</td>\n",
       "      <td>0</td>\n",
       "      <td>0</td>\n",
       "    </tr>\n",
       "  </tbody>\n",
       "</table>\n",
       "<p>3 rows × 110 columns</p>\n",
       "</div>"
      ],
      "text/plain": [
       "                        id  member_id  loan_amnt  funded_amnt  \\\n",
       "verification_status                                             \n",
       "Not Verified         16921      16921      16921        16921   \n",
       "Source Verified       9987       9987       9987         9987   \n",
       "Verified             12809      12809      12809        12809   \n",
       "\n",
       "                     funded_amnt_inv   term  int_rate  installment  grade  \\\n",
       "verification_status                                                         \n",
       "Not Verified                   16921  16921     16921        16921  16921   \n",
       "Source Verified                 9987   9987      9987         9987   9987   \n",
       "Verified                       12809  12809     12809        12809  12809   \n",
       "\n",
       "                     sub_grade  ...  num_tl_90g_dpd_24m  num_tl_op_past_12m  \\\n",
       "verification_status             ...                                           \n",
       "Not Verified             16921  ...                   0                   0   \n",
       "Source Verified           9987  ...                   0                   0   \n",
       "Verified                 12809  ...                   0                   0   \n",
       "\n",
       "                     pct_tl_nvr_dlq  percent_bc_gt_75  pub_rec_bankruptcies  \\\n",
       "verification_status                                                           \n",
       "Not Verified                      0                 0                 16225   \n",
       "Source Verified                   0                 0                  9987   \n",
       "Verified                          0                 0                 12808   \n",
       "\n",
       "                     tax_liens  tot_hi_cred_lim  total_bal_ex_mort  \\\n",
       "verification_status                                                  \n",
       "Not Verified             16882                0                  0   \n",
       "Source Verified           9987                0                  0   \n",
       "Verified                 12809                0                  0   \n",
       "\n",
       "                     total_bc_limit  total_il_high_credit_limit  \n",
       "verification_status                                              \n",
       "Not Verified                      0                           0  \n",
       "Source Verified                   0                           0  \n",
       "Verified                          0                           0  \n",
       "\n",
       "[3 rows x 110 columns]"
      ]
     },
     "execution_count": 100,
     "metadata": {},
     "output_type": "execute_result"
    }
   ],
   "source": [
    "#checking the Verification status \n",
    "Verification_Status=loan.groupby('verification_status').count()\n",
    "Verification_Status"
   ]
  },
  {
   "cell_type": "code",
   "execution_count": 101,
   "id": "6466551c",
   "metadata": {},
   "outputs": [
    {
     "data": {
      "text/plain": [
       "Index(['Not Verified', 'Source Verified', 'Verified'], dtype='object', name='verification_status')"
      ]
     },
     "execution_count": 101,
     "metadata": {},
     "output_type": "execute_result"
    }
   ],
   "source": [
    "#to know the name of index\n",
    "Verification_Status.index"
   ]
  },
  {
   "cell_type": "code",
   "execution_count": 102,
   "id": "af25a5a0",
   "metadata": {},
   "outputs": [
    {
     "data": {
      "image/png": "[encoded data removed]",
      "text/plain": [
       "<Figure size 576x720 with 1 Axes>"
      ]
     },
     "metadata": {},
     "output_type": "display_data"
    }
   ],
   "source": [
    "#ploting the pichart to know the % of loan status \n",
    "plt.figure(figsize = [8,10])\n",
    "plt.pie(Verification_Status[\"id\"],explode=(0.1,0,0),labels=Verification_Status.index,autopct='%1.1f%%',textprops={'fontsize': 16, 'fontweight' : 20, 'color' : 'Black'}, startangle=90)\n",
    "plt.show()"
   ]
  },
  {
   "cell_type": "code",
   "execution_count": 103,
   "id": "98c3e068",
   "metadata": {},
   "outputs": [
    {
     "name": "stdout",
     "output_type": "stream",
     "text": [
      "NotVerified_Charged off       : 2142\n",
      "Verified_Charged off          : 2051\n",
      "sourceVerified_Charged off    : 1434\n",
      "NotVerified_Fullypaid         : 14552\n",
      "Verified_Fullypaid            : 10155\n",
      "sourceVerified_Fully Paid     : 8243\n"
     ]
    }
   ],
   "source": [
    "#mapped the data with verification with status of loan , to derive the result of verification\n",
    "NotVerified_Charged  =loan[(loan['verification_status'] == 'Not Verified') & (loan['loan_status'] == 'Charged Off')]\n",
    "NotVerified_Fullypaid  =loan[(loan['verification_status'] == 'Not Verified')& (loan['loan_status'] == 'Fully Paid')]\n",
    "Verified_Charged  =loan[(loan['verification_status'] == 'Verified')& (loan['loan_status'] == 'Charged Off')]\n",
    "Verified_Fullypaid  =loan[(loan['verification_status'] == 'Verified') & (loan['loan_status'] == 'Fully Paid')]\n",
    "sourceVerified_Charged  =loan[(loan['verification_status'] == 'Source Verified') & (loan['loan_status'] == 'Charged Off')]\n",
    "sourceVerified_Fullypaid  =loan[(loan['verification_status'] == 'Source Verified') & (loan['loan_status'] == 'Fully Paid')]\n",
    "\n",
    "#sorted_data3 =sorted_data & sorted_data1\n",
    "print('NotVerified_Charged off       :'     ,NotVerified_Charged.id.count())\n",
    "print('Verified_Charged off          :'        ,Verified_Charged.id.count())\n",
    "print('sourceVerified_Charged off    :'  ,sourceVerified_Charged.id.count())\n",
    "\n",
    "print('NotVerified_Fullypaid         :'   , NotVerified_Fullypaid.id.count())\n",
    "print('Verified_Fullypaid            :'      , Verified_Fullypaid.id.count())\n",
    "print('sourceVerified_Fully Paid     :'          ,sourceVerified_Fullypaid.id.count())"
   ]
  },
  {
   "cell_type": "code",
   "execution_count": 104,
   "id": "414fd288",
   "metadata": {},
   "outputs": [
    {
     "data": {
      "text/plain": [
       "<function matplotlib.pyplot.show(close=None, block=None)>"
      ]
     },
     "execution_count": 104,
     "metadata": {},
     "output_type": "execute_result"
    },
    {
     "data": {
      "image/png": "[encoded data removed]",
      "text/plain": [
       "<Figure size 432x288 with 1 Axes>"
      ]
     },
     "metadata": {
      "needs_background": "light"
     },
     "output_type": "display_data"
    }
   ],
   "source": [
    "#written the code to understand the purpose of loan\n",
    "title=loan.groupby('purpose').count()\n",
    "plt.bar(title.index,title.id)\n",
    "plt.xticks(rotation=90)\n",
    "plt.title(\"Type of loan titles \\n\",fontdict={\"fontsize\":20,\"fontweight\":10,\"color\":\"green\"})\n",
    "plt.xlabel(\"Purpose\",fontdict={'fontsize':15,'fontweight':5,'color':'red'})\n",
    "plt.ylabel(\"Count\",fontdict={'fontsize':15,'fontweight':5,'color':'red'})\n",
    "plt.show"
   ]
  },
  {
   "cell_type": "code",
   "execution_count": null,
   "id": "129f66b7",
   "metadata": {},
   "outputs": [],
   "source": []
  },
  {
   "cell_type": "code",
   "execution_count": null,
   "id": "480e13f7",
   "metadata": {},
   "outputs": [],
   "source": []
  }
 ],
 "metadata": {
  "kernelspec": {
   "display_name": "Python 3 (ipykernel)",
   "language": "python",
   "name": "python3"
  },
  "language_info": {
   "codemirror_mode": {
    "name": "ipython",
    "version": 3
   },
   "file_extension": ".py",
   "mimetype": "text/x-python",
   "name": "python",
   "nbconvert_exporter": "python",
   "pygments_lexer": "ipython3",
   "version": "3.9.7"
  }
 },
 "nbformat": 4,
 "nbformat_minor": 5
}
